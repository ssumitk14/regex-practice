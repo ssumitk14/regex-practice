{
 "cells": [
  {
   "cell_type": "code",
   "execution_count": 1,
   "metadata": {},
   "outputs": [],
   "source": [
    "import re"
   ]
  },
  {
   "cell_type": "code",
   "execution_count": 38,
   "metadata": {},
   "outputs": [
    {
     "data": {
      "text/plain": [
       "<re.Match object; span=(14, 18), match='1996'>"
      ]
     },
     "execution_count": 38,
     "metadata": {},
     "output_type": "execute_result"
    }
   ],
   "source": [
    "sentence = \"I was born in 1996\"\n",
    "re.search(r\"\\d\\d\\d\\d\",sentence)"
   ]
  },
  {
   "cell_type": "markdown",
   "metadata": {},
   "source": [
    "### re.match\n",
    "1. Only does the local search\n",
    "2. Only finds the pattern in the first word"
   ]
  },
  {
   "cell_type": "code",
   "execution_count": 39,
   "metadata": {},
   "outputs": [
    {
     "data": {
      "text/plain": [
       "<re.Match object; span=(0, 1), match='I'>"
      ]
     },
     "execution_count": 39,
     "metadata": {},
     "output_type": "execute_result"
    }
   ],
   "source": [
    "# Returns the first word with pattern..\n",
    "re.match(r\"[a-zA-Z]\",sentence)"
   ]
  },
  {
   "cell_type": "code",
   "execution_count": 40,
   "metadata": {},
   "outputs": [],
   "source": [
    "sentence = \"1996 was the year in which I was born\"\n",
    "re.match(r\"[a-zA-Z]+\",sentence)"
   ]
  },
  {
   "cell_type": "markdown",
   "metadata": {},
   "source": [
    "### re.search\n",
    "1. Does a global search\n",
    "2. Looks for the pattern in the whole sentence/document."
   ]
  },
  {
   "cell_type": "code",
   "execution_count": 45,
   "metadata": {},
   "outputs": [
    {
     "data": {
      "text/plain": [
       "<re.Match object; span=(5, 8), match='was'>"
      ]
     },
     "execution_count": 45,
     "metadata": {},
     "output_type": "execute_result"
    }
   ],
   "source": [
    "sentence = \"1996 was the year in which I was born\"\n",
    "re.search(r\"[a-zA-Z]+\",sentence)"
   ]
  },
  {
   "cell_type": "markdown",
   "metadata": {},
   "source": [
    "### starts with"
   ]
  },
  {
   "cell_type": "code",
   "execution_count": 47,
   "metadata": {},
   "outputs": [
    {
     "name": "stdout",
     "output_type": "stream",
     "text": [
      "Match\n"
     ]
    }
   ],
   "source": [
    "if re.match(r\"^1996\",sentence):\n",
    "    print(\"Match\")\n",
    "else:\n",
    "    print(\"No match found\")"
   ]
  },
  {
   "cell_type": "code",
   "execution_count": 48,
   "metadata": {},
   "outputs": [
    {
     "name": "stdout",
     "output_type": "stream",
     "text": [
      "No match found\n"
     ]
    }
   ],
   "source": [
    "if re.match(r\"^The\",sentence):\n",
    "    print(\"Match\")\n",
    "else:\n",
    "    print(\"No match found\")"
   ]
  },
  {
   "cell_type": "markdown",
   "metadata": {},
   "source": [
    "### Ends with"
   ]
  },
  {
   "cell_type": "code",
   "execution_count": 51,
   "metadata": {},
   "outputs": [
    {
     "name": "stdout",
     "output_type": "stream",
     "text": [
      "match\n"
     ]
    }
   ],
   "source": [
    "if re.search(r\"born$\",sentence):\n",
    "    print(\"match\")\n",
    "else:\n",
    "    print(\"No match\")"
   ]
  },
  {
   "cell_type": "code",
   "execution_count": 54,
   "metadata": {},
   "outputs": [
    {
     "name": "stdout",
     "output_type": "stream",
     "text": [
      "No match\n"
     ]
    }
   ],
   "source": [
    "if re.search(r\"ant$\",sentence):\n",
    "    print(\"match\")\n",
    "else:\n",
    "    print(\"No match\")"
   ]
  },
  {
   "cell_type": "markdown",
   "metadata": {},
   "source": [
    "## Substitutions (or Replacement)"
   ]
  },
  {
   "cell_type": "code",
   "execution_count": 58,
   "metadata": {},
   "outputs": [
    {
     "name": "stdout",
     "output_type": "stream",
     "text": [
      "1996 was the year in which I was born\n"
     ]
    },
    {
     "data": {
      "text/plain": [
       "'1996 000 000 0000 00 00000 I 000 0000'"
      ]
     },
     "execution_count": 58,
     "metadata": {},
     "output_type": "execute_result"
    }
   ],
   "source": [
    "## Replacing all small alphabets with 0\n",
    "\n",
    "print(sentence)\n",
    "re.sub(r\"[a-z]\",\"0\",sentence)"
   ]
  },
  {
   "cell_type": "code",
   "execution_count": 62,
   "metadata": {},
   "outputs": [
    {
     "name": "stdout",
     "output_type": "stream",
     "text": [
      "1996 was the year in which I was born\n"
     ]
    },
    {
     "data": {
      "text/plain": [
       "'1996 was the year in which 0 was born'"
      ]
     },
     "execution_count": 62,
     "metadata": {},
     "output_type": "execute_result"
    }
   ],
   "source": [
    "\n",
    "## Replacing all caital alphabets with 0\n",
    "\n",
    "print(sentence)\n",
    "re.sub(r\"[A-Z]\",\"0\",sentence)\n"
   ]
  },
  {
   "cell_type": "code",
   "execution_count": 63,
   "metadata": {},
   "outputs": [
    {
     "name": "stdout",
     "output_type": "stream",
     "text": [
      "1996 was the year in which I was born\n"
     ]
    },
    {
     "data": {
      "text/plain": [
       "'1996 000 000 0000 00 00000 0 000 0000'"
      ]
     },
     "execution_count": 63,
     "metadata": {},
     "output_type": "execute_result"
    }
   ],
   "source": [
    "## Replacing all alphabets with 0\n",
    "\n",
    "print(sentence)\n",
    "re.sub(r\"[a-zA-Z]\",\"0\",sentence)"
   ]
  },
  {
   "cell_type": "code",
   "execution_count": 65,
   "metadata": {},
   "outputs": [
    {
     "name": "stdout",
     "output_type": "stream",
     "text": [
      "1996 was the year in which I was born\n"
     ]
    },
    {
     "data": {
      "text/plain": [
       "'1996 000 000 0000 00 00000 0 000 0000'"
      ]
     },
     "execution_count": 65,
     "metadata": {},
     "output_type": "execute_result"
    }
   ],
   "source": [
    "# re.I means case Insensitive, so it will replace all the alphabets to 0\n",
    "\n",
    "print(sentence)\n",
    "re.sub(r\"[a-z]\",\"0\",sentence,flags=re.I)"
   ]
  },
  {
   "cell_type": "markdown",
   "metadata": {},
   "source": [
    "#### using count in re.sub"
   ]
  },
  {
   "cell_type": "code",
   "execution_count": 70,
   "metadata": {},
   "outputs": [
    {
     "name": "stdout",
     "output_type": "stream",
     "text": [
      "1996 was the year in which I was born\n"
     ]
    },
    {
     "data": {
      "text/plain": [
       "'1996 0as the year in which I was born'"
      ]
     },
     "execution_count": 70,
     "metadata": {},
     "output_type": "execute_result"
    }
   ],
   "source": [
    "#This will only substitute thte first match found in te document\n",
    "\n",
    "print(sentence)\n",
    "re.sub(r\"[a-z]\",\"0\",sentence,1)"
   ]
  },
  {
   "cell_type": "code",
   "execution_count": 73,
   "metadata": {},
   "outputs": [
    {
     "name": "stdout",
     "output_type": "stream",
     "text": [
      "1996 was the year in which I was born\n"
     ]
    },
    {
     "data": {
      "text/plain": [
       "'1996 000 00e year in which I was born'"
      ]
     },
     "execution_count": 73,
     "metadata": {},
     "output_type": "execute_result"
    }
   ],
   "source": [
    "print(sentence)\n",
    "re.sub(r\"[a-z]\",\"0\",sentence,5)"
   ]
  },
  {
   "cell_type": "code",
   "execution_count": 77,
   "metadata": {},
   "outputs": [
    {
     "name": "stdout",
     "output_type": "stream",
     "text": [
      "1996 was the year in which I was born\n"
     ]
    },
    {
     "data": {
      "text/plain": [
       "'1996 0 the year in which I was born'"
      ]
     },
     "execution_count": 77,
     "metadata": {},
     "output_type": "execute_result"
    }
   ],
   "source": [
    "# [a-z]+ ==> this will check for the whole word and then terminate the pattern if any non-alphabet occurs.\n",
    "##So, after was, there is a space so the pattern terminates and then substitutes the pattern with 0\n",
    "\n",
    "print(sentence)\n",
    "re.sub(r\"[a-z]+\",\"0\",sentence,1)"
   ]
  },
  {
   "cell_type": "code",
   "execution_count": 78,
   "metadata": {},
   "outputs": [
    {
     "name": "stdout",
     "output_type": "stream",
     "text": [
      "1996 was the year in which I was born\n"
     ]
    },
    {
     "data": {
      "text/plain": [
       "'1996 0 0 year in which I was born'"
      ]
     },
     "execution_count": 78,
     "metadata": {},
     "output_type": "execute_result"
    }
   ],
   "source": [
    "print(sentence)\n",
    "re.sub(r\"[a-z]+\",\"0\",sentence,2)"
   ]
  },
  {
   "cell_type": "code",
   "execution_count": null,
   "metadata": {},
   "outputs": [],
   "source": []
  },
  {
   "cell_type": "markdown",
   "metadata": {},
   "source": [
    "## Shorthand Character clases (Very Important)"
   ]
  },
  {
   "cell_type": "code",
   "execution_count": 79,
   "metadata": {},
   "outputs": [],
   "source": [
    "sentence1 = \"Welcome to the year 2021\"\n",
    "sentence2 = \"Just ~% +++--- arrived at @Jak's place #fun.\"\n",
    "sentence3 = \"I                     love\""
   ]
  },
  {
   "cell_type": "code",
   "execution_count": 81,
   "metadata": {},
   "outputs": [
    {
     "name": "stdout",
     "output_type": "stream",
     "text": [
      "Welcome to the year \n"
     ]
    }
   ],
   "source": [
    "# Substituting digits frm the doument\n",
    "sent1_modified = re.sub(r\"\\d\",\"\",sentence1)\n",
    "print(sent1_modified)"
   ]
  },
  {
   "cell_type": "code",
   "execution_count": 88,
   "metadata": {},
   "outputs": [
    {
     "data": {
      "text/plain": [
       "'Just   arrived at Jaks place fun'"
      ]
     },
     "execution_count": 88,
     "metadata": {},
     "output_type": "execute_result"
    }
   ],
   "source": [
    "# Substitute all special character with nothing\n",
    "# Here back-slash(\\) is used to denote that only dot(.) and not everything in regex\n",
    "# Generally if we only put dot(.) without back-slash then it will consider everythinh in the document.\n",
    "sent2_modified = re.sub(r\"[~+-@%#\\.\\']\",\"\",sentence2) \n",
    "sent2_modified"
   ]
  },
  {
   "cell_type": "code",
   "execution_count": 90,
   "metadata": {},
   "outputs": [
    {
     "data": {
      "text/plain": [
       "\" ~% +++---   @'  #.\""
      ]
     },
     "execution_count": 90,
     "metadata": {},
     "output_type": "execute_result"
    }
   ],
   "source": [
    "## Replaces all word character with nothing\n",
    "sent2_modified = re.sub(r\"\\w\",\"\",sentence2)\n",
    "sent2_modified"
   ]
  },
  {
   "cell_type": "code",
   "execution_count": 92,
   "metadata": {},
   "outputs": [
    {
     "data": {
      "text/plain": [
       "'JustarrivedatJaksplacefun'"
      ]
     },
     "execution_count": 92,
     "metadata": {},
     "output_type": "execute_result"
    }
   ],
   "source": [
    "## Replaces all non-word character with nothing\n",
    "sent2_modified = re.sub(r\"\\W\",\"\",sentence2) #a-zA-Z0-9\n",
    "sent2_modified"
   ]
  },
  {
   "cell_type": "code",
   "execution_count": 95,
   "metadata": {},
   "outputs": [
    {
     "name": "stdout",
     "output_type": "stream",
     "text": [
      "I                     love\n"
     ]
    },
    {
     "data": {
      "text/plain": [
       "'I love'"
      ]
     },
     "execution_count": 95,
     "metadata": {},
     "output_type": "execute_result"
    }
   ],
   "source": [
    "# To replace more than 1 spaces from the document.\n",
    "# Here \\s denotes a single space\n",
    "# And \\s+ denotes more than 1 space\n",
    "print(sentence3)\n",
    "sent3_modified = re.sub(\"\\s+\",\" \",sentence3)\n",
    "sent3_modified"
   ]
  },
  {
   "cell_type": "code",
   "execution_count": 102,
   "metadata": {},
   "outputs": [
    {
     "name": "stdout",
     "output_type": "stream",
     "text": [
      "Just ~% +++--- arrived at @Jak's place #fun.\n",
      "Just           arrived at  Jak s place  fun \n",
      "Just arrived at Jak s place fun \n",
      "---------------------------------------Removing single S-------------------------------------------\n",
      "Just arrived at Jak place fun \n"
     ]
    }
   ],
   "source": [
    "### Removing a single character from a sentence.\n",
    "print(sentence2)\n",
    "sent2_modified = re.sub(r\"\\W\",\" \",sentence2)\n",
    "print(sent2_modified)\n",
    "\n",
    "removing_blank_spaces = re.sub(\"\\s+\",\" \",sent2_modified)\n",
    "print(removing_blank_spaces)\n",
    "removing_single_charaacter = re.sub(r\"\\s+[a-zA-Z]\\s+\",\" \",removing_blank_spaces)\n",
    "print(\"---------------------------------------Removing single S-------------------------------------------\")\n",
    "print(removing_single_charaacter)"
   ]
  },
  {
   "cell_type": "code",
   "execution_count": null,
   "metadata": {},
   "outputs": [],
   "source": []
  }
 ],
 "metadata": {
  "kernelspec": {
   "display_name": "Python 3",
   "language": "python",
   "name": "python3"
  },
  "language_info": {
   "codemirror_mode": {
    "name": "ipython",
    "version": 3
   },
   "file_extension": ".py",
   "mimetype": "text/x-python",
   "name": "python",
   "nbconvert_exporter": "python",
   "pygments_lexer": "ipython3",
   "version": "3.7.4"
  }
 },
 "nbformat": 4,
 "nbformat_minor": 2
}
